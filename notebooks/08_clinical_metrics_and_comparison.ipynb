{
 "cells": [
  {
   "cell_type": "markdown",
   "id": "61645eec",
   "metadata": {},
   "source": [
    "# 08 - Comparación con AVA y Métricas Clínicas\n",
    "\n",
    "## Objetivo\n",
    "Comparar outputs con AVA 3.2 o análisis manual:\n",
    "- MFI, PPV, PVD\n",
    "- Coherencia hemodinámica\n"
   ]
  },
  {
   "cell_type": "code",
   "execution_count": null,
   "id": "c5ca909b",
   "metadata": {
    "vscode": {
     "languageId": "plaintext"
    }
   },
   "outputs": [],
   "source": [
    "import seaborn as sns\n",
    "import pandas as pd\n",
    "\n",
    "df = pd.read_csv(\"results_comparison.csv\")\n",
    "sns.scatterplot(data=df, x=\"PVD_AVA\", y=\"PVD_model\")\n",
    "plt.plot([0, df.max().max()], [0, df.max().max()], 'r--')\n",
    "plt.title(\"Comparación de PVD\")\n"
   ]
  }
 ],
 "metadata": {
  "language_info": {
   "name": "python"
  }
 },
 "nbformat": 4,
 "nbformat_minor": 5
}
