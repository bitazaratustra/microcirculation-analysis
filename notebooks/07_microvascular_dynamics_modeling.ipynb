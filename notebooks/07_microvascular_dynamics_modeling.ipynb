{
 "cells": [
  {
   "cell_type": "markdown",
   "id": "b6f1d1c3",
   "metadata": {},
   "source": [
    "# 07 - Modelado Dinámico\n",
    "\n",
    "## Objetivo\n",
    "- Entrenar modelo secuencial (GRU, LSTM o Transformer)\n",
    "- Predecir dinámicas microvasculares\n",
    "\n",
    "## Dataset\n",
    "Vectores de métricas por video (series temporales)\n"
   ]
  },
  {
   "cell_type": "code",
   "execution_count": null,
   "id": "85439821",
   "metadata": {
    "vscode": {
     "languageId": "plaintext"
    }
   },
   "outputs": [],
   "source": [
    "from src.models.rnn import MicroDynamicsRNN\n",
    "\n",
    "model = MicroDynamicsRNN(input_dim=3, hidden_dim=64)\n",
    "loss_fn = torch.nn.MSELoss()\n",
    "optimizer = torch.optim.Adam(model.parameters(), lr=1e-3)\n",
    "\n",
    "for x_batch, y_batch in train_loader:\n",
    "    y_pred = model(x_batch)\n",
    "    loss = loss_fn(y_pred, y_batch)\n",
    "    optimizer.zero_grad()\n",
    "    loss.backward()\n",
    "    optimizer.step()\n"
   ]
  },
  {
   "cell_type": "markdown",
   "id": "57890323",
   "metadata": {},
   "source": []
  }
 ],
 "metadata": {
  "language_info": {
   "name": "python"
  }
 },
 "nbformat": 4,
 "nbformat_minor": 5
}
