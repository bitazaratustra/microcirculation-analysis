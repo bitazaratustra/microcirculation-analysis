{
 "cells": [
  {
   "cell_type": "markdown",
   "id": "8e44c006",
   "metadata": {},
   "source": [
    "# 04 - Entrenamiento de Segmentador de Vasos\n",
    "\n",
    "## Objetivo\n",
    "Entrenar una red U-Net para segmentar vasos capilares a partir de imágenes.\n",
    "\n",
    "## Librerías\n",
    "- PyTorch\n",
    "- Albumentations\n",
    "- segmentation_models_pytorch\n"
   ]
  },
  {
   "cell_type": "code",
   "execution_count": null,
   "id": "b322be80",
   "metadata": {
    "vscode": {
     "languageId": "plaintext"
    }
   },
   "outputs": [],
   "source": [
    "import segmentation_models_pytorch as smp\n",
    "import torch\n",
    "from torch.utils.data import DataLoader\n",
    "from src.data.segmentation_dataset import SegmentationDataset  \n",
    "\n",
    "\n",
    "# Dataset\n",
    "train_dataset = SegmentationDataset(img_dir=\"../data/processed/\", mask_dir=\"../data/annotations/\")\n",
    "train_loader = DataLoader(train_dataset, batch_size=8, shuffle=True)\n",
    "\n",
    "# Modelo\n",
    "model = smp.Unet(encoder_name=\"resnet34\", in_channels=1, classes=1)\n",
    "loss_fn = smp.losses.DiceLoss('binary')\n",
    "optimizer = torch.optim.Adam(model.parameters(), lr=1e-3)\n",
    "\n",
    "# Entrenamiento básico (1 epoch)\n",
    "model.train()\n",
    "for batch in train_loader:\n",
    "    x, y = batch\n",
    "    y_pred = model(x)\n",
    "    loss = loss_fn(y_pred, y)\n",
    "    optimizer.zero_grad()\n",
    "    loss.backward()\n",
    "    optimizer.step()\n"
   ]
  }
 ],
 "metadata": {
  "language_info": {
   "name": "python"
  }
 },
 "nbformat": 4,
 "nbformat_minor": 5
}
