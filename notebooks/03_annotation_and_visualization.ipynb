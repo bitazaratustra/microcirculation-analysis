{
 "cells": [
  {
   "cell_type": "markdown",
   "id": "a6ce7d86",
   "metadata": {},
   "source": [
    "# 03 - Anotación y visualización\n",
    "\n",
    "## Objetivo\n",
    "Visualizar segmentaciones de vasos capilares.\n",
    "Editar y crear máscaras de vasos si es necesario.\n",
    "\n",
    "## Formato\n",
    "Se asume que las máscaras están en `data/annotations/` como imágenes binarias\n"
   ]
  },
  {
   "cell_type": "code",
   "execution_count": null,
   "id": "d09ae847",
   "metadata": {
    "vscode": {
     "languageId": "plaintext"
    }
   },
   "outputs": [],
   "source": [
    "from PIL import Image\n",
    "import numpy as np\n",
    "\n",
    "frame = Image.open(\"../data/processed/video1/frame_0000.png\")\n",
    "mask = Image.open(\"../data/annotations/video1/frame_0000_mask.png\")\n",
    "\n",
    "plt.figure(figsize=(12, 6))\n",
    "plt.subplot(1, 2, 1)\n",
    "plt.imshow(frame, cmap='gray')\n",
    "plt.title(\"Frame original\")\n",
    "\n",
    "plt.subplot(1, 2, 2)\n",
    "plt.imshow(mask, cmap='gray')\n",
    "plt.title(\"Máscara de vasos\")\n",
    "plt.show()\n"
   ]
  },
  {
   "cell_type": "markdown",
   "id": "1e296379",
   "metadata": {},
   "source": []
  }
 ],
 "metadata": {
  "language_info": {
   "name": "python"
  }
 },
 "nbformat": 4,
 "nbformat_minor": 5
}
