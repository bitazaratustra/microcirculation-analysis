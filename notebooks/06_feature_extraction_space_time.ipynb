{
 "cells": [
  {
   "cell_type": "markdown",
   "id": "3ee00107",
   "metadata": {},
   "source": [
    "# 06 - Extracción de métricas fisiológicas\n",
    "\n",
    "## Objetivo\n",
    "Calcular:\n",
    "- Velocidad de eritrocitos\n",
    "- Densidad lineal\n",
    "- Tasa de suministro\n"
   ]
  },
  {
   "cell_type": "code",
   "execution_count": null,
   "id": "924c5f64",
   "metadata": {
    "vscode": {
     "languageId": "plaintext"
    }
   },
   "outputs": [],
   "source": [
    "from src.features.compute_metrics import extract_metrics\n",
    "\n",
    "metrics = extract_metrics(space_time_img)\n",
    "print(metrics)\n",
    "\n",
    "# {'velocity': 115.3, 'density': 78.2, 'supply_rate': 44.6}\n"
   ]
  },
  {
   "cell_type": "markdown",
   "id": "ede336f1",
   "metadata": {},
   "source": []
  }
 ],
 "metadata": {
  "language_info": {
   "name": "python"
  }
 },
 "nbformat": 4,
 "nbformat_minor": 5
}
