{
 "cells": [
  {
   "cell_type": "markdown",
   "id": "4ea6008b",
   "metadata": {},
   "source": [
    "# 05 - Análisis del video segmentado\n",
    "\n",
    "## Objetivo\n",
    "- Aplicar segmentador a todos los frames\n",
    "- Generar imagen espacio-tiempo por capilar\n"
   ]
  },
  {
   "cell_type": "code",
   "execution_count": null,
   "id": "88ea6820",
   "metadata": {
    "vscode": {
     "languageId": "plaintext"
    }
   },
   "outputs": [],
   "source": [
    "from src.features.space_time_diagram import build_space_time_image\n",
    "\n",
    "\n",
    "# Procesamiento de un video\n",
    "video_path = \"../data/processed/video1\"\n",
    "model.eval()\n",
    "space_time_img = build_space_time_image(video_path, model)\n",
    "plt.imshow(space_time_img, cmap='gray')\n",
    "plt.title(\"Imagen espacio-tiempo\")\n"
   ]
  }
 ],
 "metadata": {
  "language_info": {
   "name": "python"
  }
 },
 "nbformat": 4,
 "nbformat_minor": 5
}
