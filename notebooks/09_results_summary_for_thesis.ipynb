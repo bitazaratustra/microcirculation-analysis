{
 "cells": [
  {
   "cell_type": "markdown",
   "id": "7cc9bc5f",
   "metadata": {},
   "source": [
    "# 09 - Resultados Finales para la Tesis\n",
    "\n",
    "## Objetivo\n",
    "Exportar:\n",
    "- Gráficos\n",
    "- Tablas resumen\n",
    "- Resultados clave\n",
    "\n",
    "## Formato\n",
    "Se generan imágenes para la tesis y tablas en LaTeX o CSV\n"
   ]
  },
  {
   "cell_type": "code",
   "execution_count": null,
   "id": "c61cefcc",
   "metadata": {
    "vscode": {
     "languageId": "plaintext"
    }
   },
   "outputs": [],
   "source": [
    "import matplotlib.pyplot as plt\n",
    "\n",
    "plt.figure()\n",
    "plt.plot(time, velocity)\n",
    "plt.title(\"Velocidad de eritrocitos a lo largo del tiempo\")\n",
    "plt.xlabel(\"Tiempo (s)\")\n",
    "plt.ylabel(\"Velocidad (μm/s)\")\n",
    "plt.savefig(\"figures/velocity_curve.png\")\n"
   ]
  },
  {
   "cell_type": "markdown",
   "id": "3d0de6ee",
   "metadata": {},
   "source": []
  }
 ],
 "metadata": {
  "language_info": {
   "name": "python"
  }
 },
 "nbformat": 4,
 "nbformat_minor": 5
}
