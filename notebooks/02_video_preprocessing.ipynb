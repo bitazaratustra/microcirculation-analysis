{
 "cells": [
  {
   "cell_type": "markdown",
   "id": "b218d390",
   "metadata": {},
   "source": [
    "# 02 - Preprocesamiento de Video\n",
    "\n",
    "## Objetivo\n",
    "- Extraer frames de videos\n",
    "- Normalizar resolución, escala de grises\n",
    "- Estabilizar si hay movimientos de cámara\n",
    "- Guardar frames en `data/processed/`\n"
   ]
  },
  {
   "cell_type": "code",
   "execution_count": null,
   "id": "05248afc",
   "metadata": {
    "vscode": {
     "languageId": "plaintext"
    }
   },
   "outputs": [],
   "source": [
    "import cv2\n",
    "from pathlib import Path\n",
    "\n",
    "raw_dir = Path(\"../data/raw\")\n",
    "out_dir = Path(\"../data/processed\")\n",
    "out_dir.mkdir(exist_ok=True, parents=True)\n",
    "\n",
    "fps = 10  # frames por segundo deseado\n",
    "\n",
    "for vid in raw_dir.glob(\"*.mp4\"):\n",
    "    cap = cv2.VideoCapture(str(vid))\n",
    "    out_subdir = out_dir / vid.stem\n",
    "    out_subdir.mkdir(exist_ok=True)\n",
    "\n",
    "    i = 0\n",
    "    while True:\n",
    "        ret, frame = cap.read()\n",
    "        if not ret:\n",
    "            break\n",
    "        if i % int(cap.get(cv2.CAP_PROP_FPS) // fps) == 0:\n",
    "            gray = cv2.cvtColor(frame, cv2.COLOR_BGR2GRAY)\n",
    "            cv2.imwrite(str(out_subdir / f\"frame_{i:04d}.png\"), gray)\n",
    "        i += 1\n",
    "    cap.release()\n",
    "\n",
    "print(\"Frames extraídos y guardados.\")\n"
   ]
  }
 ],
 "metadata": {
  "language_info": {
   "name": "python"
  }
 },
 "nbformat": 4,
 "nbformat_minor": 5
}
