{
 "cells": [
  {
   "cell_type": "markdown",
   "id": "32d2873b",
   "metadata": {},
   "source": [
    "# 01 - Exploración de datos\n",
    "\n",
    "## Objetivo\n",
    "Explorar los videos o frames sublinguales para evaluar:\n",
    "- Calidad de imagen\n",
    "- Resolución, duración\n",
    "- Ejemplos con artefactos\n",
    "- Variables que puedan afectar el análisis\n",
    "\n",
    "## Dataset\n",
    "Se asume que los videos están en `data/raw/` en formato `.mp4` o `.avi`\n"
   ]
  },
  {
   "cell_type": "code",
   "execution_count": null,
   "id": "fedca5ea",
   "metadata": {
    "vscode": {
     "languageId": "plaintext"
    }
   },
   "outputs": [],
   "source": [
    "import os\n",
    "import cv2\n",
    "import matplotlib.pyplot as plt\n",
    "\n",
    "# Ruta de videos\n",
    "data_path = \"../data/raw\"\n",
    "video_files = [f for f in os.listdir(data_path) if f.endswith(('.mp4', '.avi'))]\n",
    "\n",
    "print(f\"{len(video_files)} videos encontrados.\")\n",
    "\n",
    "# Visualizar el primer frame del primer video\n",
    "video = cv2.VideoCapture(os.path.join(data_path, video_files[0]))\n",
    "ret, frame = video.read()\n",
    "video.release()\n",
    "\n",
    "plt.imshow(cv2.cvtColor(frame, cv2.COLOR_BGR2RGB))\n",
    "plt.title(\"Primer frame\")\n",
    "plt.axis(\"off\")\n",
    "plt.show()"
   ]
  },
  {
   "cell_type": "code",
   "execution_count": null,
   "id": "6ae1e575",
   "metadata": {
    "vscode": {
     "languageId": "plaintext"
    }
   },
   "outputs": [],
   "source": []
  }
 ],
 "metadata": {
  "language_info": {
   "name": "python"
  }
 },
 "nbformat": 4,
 "nbformat_minor": 5
}
